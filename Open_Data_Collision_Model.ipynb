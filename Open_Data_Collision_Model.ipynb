{
 "cells": [
  {
   "cell_type": "code",
   "execution_count": 6,
   "metadata": {
    "collapsed": false
   },
   "outputs": [],
   "source": [
    "\"\"\"\n",
    "Created on Sun Sep 11 22:40:56 2016\n",
    "\n",
    "@author: Daniel Montiel\n",
    "email: dmontiel242@gmail.com\n",
    "\n",
    "This toy notebooks takes in NYC open data motor vehicle collision data and builds a model on whether the features of collision predict a fatality\n",
    "\"\"\"\n",
    "\n",
    "import datetime\n",
    "import matplotlib.pyplot as plt\n",
    "import numpy as np\n",
    "import pandas as pd\n",
    "import os\n",
    "from sklearn import cross_validation\n",
    "from sklearn import svm\n",
    "from sklearn.metrics import confusion_matrix\n",
    "from sklearn.ensemble import RandomForestClassifier"
   ]
  },
  {
   "cell_type": "code",
   "execution_count": 7,
   "metadata": {
    "collapsed": false
   },
   "outputs": [],
   "source": [
    "#read in data from specified directory\n",
    "\n",
    "df =pd.read_csv('NYC_Open_Data_Motor_Vehicle_Collisions_small.csv')\n",
    "\n",
    "lendf = len(df)"
   ]
  },
  {
   "cell_type": "code",
   "execution_count": 8,
   "metadata": {
    "collapsed": false
   },
   "outputs": [
    {
     "name": "stdout",
     "output_type": "stream",
     "text": [
      "CONTRIBUTING FACTOR VEHICLE 1\n",
      "CONTRIBUTING FACTOR VEHICLE 2\n",
      "VEHICLE TYPE CODE 1\n",
      "VEHICLE TYPE CODE 2\n"
     ]
    }
   ],
   "source": [
    "#impute missing data and extract features\n",
    "\n",
    "for ii in ['CONTRIBUTING FACTOR VEHICLE 1','CONTRIBUTING FACTOR VEHICLE 2','VEHICLE TYPE CODE 1','VEHICLE TYPE CODE 2']:\n",
    "    print ii\n",
    "    df[ii].loc[df[ii].isnull()]='NOT LISTED'\n"
   ]
  },
  {
   "cell_type": "code",
   "execution_count": 9,
   "metadata": {
    "collapsed": false
   },
   "outputs": [],
   "source": [
    "df['HOUR']=df['TIME'].apply(lambda x: int(x.split(':')[0]))\n",
    "df['ZIP CODE'] = df['ZIP CODE'].fillna(0)"
   ]
  },
  {
   "cell_type": "code",
   "execution_count": 10,
   "metadata": {
    "collapsed": true
   },
   "outputs": [],
   "source": [
    "#convert factor variables into dummy variables\n",
    "cfv1 = pd.get_dummies(df['CONTRIBUTING FACTOR VEHICLE 1'], prefix='v1cfv_')\n",
    "cfv2 = pd.get_dummies(df['CONTRIBUTING FACTOR VEHICLE 2'], prefix='v2cfv_')\n",
    "vtc1 = pd.get_dummies(df['VEHICLE TYPE CODE 1'], prefix='v1vtc_')\n",
    "vtc2 = pd.get_dummies(df['VEHICLE TYPE CODE 2'], prefix='v2vtc_')\n",
    "cleandf = cfv1\n",
    "cleandf = cleandf.join(cfv2)\n",
    "cleandf = cleandf.join(vtc1)\n",
    "cleandf = cleandf.join(vtc2)"
   ]
  },
  {
   "cell_type": "code",
   "execution_count": 11,
   "metadata": {
    "collapsed": true
   },
   "outputs": [],
   "source": [
    "#Set variance threshold for feature construction\n",
    "p = 0.80\n",
    "pn = 1-p\n",
    "varthresh = p*(1-p)\n",
    "varthreshpn = pn*(1-p)"
   ]
  },
  {
   "cell_type": "code",
   "execution_count": 12,
   "metadata": {
    "collapsed": true
   },
   "outputs": [],
   "source": [
    "#compare variance of each dummy variable and exclude if not in tolerance\n",
    "clist = []\n",
    "for column in cleandf:\n",
    "    if ((cleandf[column].sum()/lendf < varthresh) and (cleandf[column].sum()/lendf > varthreshpn)):\n",
    "        clist.append(column)\n",
    "cleandf = cleandf[clist]"
   ]
  },
  {
   "cell_type": "code",
   "execution_count": 13,
   "metadata": {
    "collapsed": false
   },
   "outputs": [],
   "source": [
    "#combine trimmed features to relevant features from main data set\n",
    "dfclean = df[['HOUR','ZIP CODE']].join(cleandf)\n"
   ]
  },
  {
   "cell_type": "code",
   "execution_count": 14,
   "metadata": {
    "collapsed": false
   },
   "outputs": [],
   "source": [
    "#convert dataset to numeric values and set NaN to 0\n",
    "for ii in list(dfclean):\n",
    "    dfclean[ii] = pd.to_numeric(dfclean[ii],errors = 'coerce')\n",
    "    dfclean[ii].loc[dfclean[ii].isnull()]=0"
   ]
  },
  {
   "cell_type": "code",
   "execution_count": 15,
   "metadata": {
    "collapsed": false
   },
   "outputs": [
    {
     "data": {
      "text/html": [
       "<div>\n",
       "<table border=\"1\" class=\"dataframe\">\n",
       "  <thead>\n",
       "    <tr style=\"text-align: right;\">\n",
       "      <th></th>\n",
       "      <th>HOUR</th>\n",
       "      <th>ZIP CODE</th>\n",
       "      <th>v1cfv__Driver Inattention/Distraction</th>\n",
       "      <th>v1cfv__Failure to Yield Right-of-Way</th>\n",
       "      <th>v2cfv__Driver Inattention/Distraction</th>\n",
       "      <th>v2cfv__NOT LISTED</th>\n",
       "      <th>v2vtc__UNKNOWN</th>\n",
       "    </tr>\n",
       "  </thead>\n",
       "  <tbody>\n",
       "    <tr>\n",
       "      <th>0</th>\n",
       "      <td>0</td>\n",
       "      <td>11201.0</td>\n",
       "      <td>0.0</td>\n",
       "      <td>0.0</td>\n",
       "      <td>0.0</td>\n",
       "      <td>0.0</td>\n",
       "      <td>0.0</td>\n",
       "    </tr>\n",
       "    <tr>\n",
       "      <th>1</th>\n",
       "      <td>0</td>\n",
       "      <td>11207.0</td>\n",
       "      <td>0.0</td>\n",
       "      <td>0.0</td>\n",
       "      <td>0.0</td>\n",
       "      <td>0.0</td>\n",
       "      <td>0.0</td>\n",
       "    </tr>\n",
       "    <tr>\n",
       "      <th>2</th>\n",
       "      <td>0</td>\n",
       "      <td>11215.0</td>\n",
       "      <td>0.0</td>\n",
       "      <td>0.0</td>\n",
       "      <td>0.0</td>\n",
       "      <td>0.0</td>\n",
       "      <td>0.0</td>\n",
       "    </tr>\n",
       "    <tr>\n",
       "      <th>3</th>\n",
       "      <td>0</td>\n",
       "      <td>11237.0</td>\n",
       "      <td>1.0</td>\n",
       "      <td>0.0</td>\n",
       "      <td>0.0</td>\n",
       "      <td>0.0</td>\n",
       "      <td>0.0</td>\n",
       "    </tr>\n",
       "    <tr>\n",
       "      <th>4</th>\n",
       "      <td>0</td>\n",
       "      <td>10033.0</td>\n",
       "      <td>0.0</td>\n",
       "      <td>0.0</td>\n",
       "      <td>0.0</td>\n",
       "      <td>1.0</td>\n",
       "      <td>0.0</td>\n",
       "    </tr>\n",
       "  </tbody>\n",
       "</table>\n",
       "</div>"
      ],
      "text/plain": [
       "   HOUR  ZIP CODE  v1cfv__Driver Inattention/Distraction  \\\n",
       "0     0   11201.0                                    0.0   \n",
       "1     0   11207.0                                    0.0   \n",
       "2     0   11215.0                                    0.0   \n",
       "3     0   11237.0                                    1.0   \n",
       "4     0   10033.0                                    0.0   \n",
       "\n",
       "   v1cfv__Failure to Yield Right-of-Way  \\\n",
       "0                                   0.0   \n",
       "1                                   0.0   \n",
       "2                                   0.0   \n",
       "3                                   0.0   \n",
       "4                                   0.0   \n",
       "\n",
       "   v2cfv__Driver Inattention/Distraction  v2cfv__NOT LISTED  v2vtc__UNKNOWN  \n",
       "0                                    0.0                0.0             0.0  \n",
       "1                                    0.0                0.0             0.0  \n",
       "2                                    0.0                0.0             0.0  \n",
       "3                                    0.0                0.0             0.0  \n",
       "4                                    0.0                1.0             0.0  "
      ]
     },
     "execution_count": 15,
     "metadata": {},
     "output_type": "execute_result"
    }
   ],
   "source": [
    "dfclean.head()"
   ]
  },
  {
   "cell_type": "code",
   "execution_count": 16,
   "metadata": {
    "collapsed": true
   },
   "outputs": [],
   "source": [
    "#divide data set into test and training set\n",
    "y = df['NUMBER OF PERSONS KILLED']\n",
    "X_train, X_test, y_train, y_test = cross_validation.train_test_split(dfclean,y, test_size = 0.9, random_state=20)"
   ]
  },
  {
   "cell_type": "code",
   "execution_count": 17,
   "metadata": {
    "collapsed": false
   },
   "outputs": [],
   "source": [
    "#train data with support vector machine model\n",
    "# clf = svm.SVC(kernel='linear', C=1).fit(X_train, y_train)\n",
    "clf = RandomForestClassifier(n_estimators=10).fit(X_train,y_train)\n",
    "#clf = AdaBoostClassifier(n_estimators=200).fit(X_train,y_train)"
   ]
  },
  {
   "cell_type": "code",
   "execution_count": 19,
   "metadata": {
    "collapsed": false
   },
   "outputs": [
    {
     "name": "stdout",
     "output_type": "stream",
     "text": [
      "0.998742209007\n"
     ]
    }
   ],
   "source": [
    "# assess accuracy of model\n",
    "y_pred = clf.predict(X_test)\n",
    "print clf.score(X_test,y_test)"
   ]
  },
  {
   "cell_type": "code",
   "execution_count": null,
   "metadata": {
    "collapsed": true
   },
   "outputs": [],
   "source": []
  }
 ],
 "metadata": {
  "anaconda-cloud": {},
  "kernelspec": {
   "display_name": "Python [conda root]",
   "language": "python",
   "name": "conda-root-py"
  },
  "language_info": {
   "codemirror_mode": {
    "name": "ipython",
    "version": 2
   },
   "file_extension": ".py",
   "mimetype": "text/x-python",
   "name": "python",
   "nbconvert_exporter": "python",
   "pygments_lexer": "ipython2",
   "version": "2.7.12"
  }
 },
 "nbformat": 4,
 "nbformat_minor": 1
}
